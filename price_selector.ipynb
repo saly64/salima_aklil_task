{
 "cells": [
  {
   "cell_type": "code",
   "execution_count": 61,
   "metadata": {},
   "outputs": [],
   "source": [
    "import pandas as pd"
   ]
  },
  {
   "cell_type": "code",
   "execution_count": 62,
   "metadata": {},
   "outputs": [],
   "source": [
    "def search_in_price_list(price_list, phone_number):\n",
    "    # search for a code match in a list\n",
    "    #match = [s for s in price_list if (phone_number.startswith(s[\"code\"]))]\n",
    "    match = [price_list[\"code\"][i] for i in range(price_list.shape[0]) if phone_number.startswith(price_list[\"code\"][i])]\n",
    "    #if the operator doesn't support the phone number\n",
    "    if len(match) == 0:\n",
    "        return 100000000000\n",
    "\n",
    "    # search for the most exact code (longest)\n",
    "    code = max(match, key=len)\n",
    "    # search for the equivalent price\n",
    "    price = price_list[price_list[\"code\"] == code][\"price\"].iloc[0]\n",
    "    return price"
   ]
  },
  {
   "cell_type": "code",
   "execution_count": 63,
   "metadata": {},
   "outputs": [],
   "source": [
    "from operator import is_not\n",
    "from functools import  partial"
   ]
  },
  {
   "cell_type": "code",
   "execution_count": 111,
   "metadata": {},
   "outputs": [],
   "source": [
    "def selector(files, phone):\n",
    "    n = len(files)\n",
    "    prices = [None]*n\n",
    "    for i in range(n):\n",
    "        try:\n",
    "            df = pd.read_csv(files[i], header = None)\n",
    "            df.columns=[\"code\",\"price\"]\n",
    "            df[\"code\"] = df[\"code\"].astype(str)\n",
    "            prices[i]= search_in_price_list(df, phone)\n",
    "        except FileNotFoundError:\n",
    "            print(\"file not found\")\n",
    "    \n",
    "    #all files doesn't exist\n",
    "    if prices == [None]*n:\n",
    "        return -1,-1\n",
    "    \n",
    "    min_price = min( filter(partial(is_not, None),prices ))\n",
    "    if min_price == 100000000000 :\n",
    "        print('this phone number is supported by no operator!')\n",
    "        return -1, -1\n",
    "    else:\n",
    "        op = prices.index(min_price)\n",
    "        print('best price: ', min_price, ' proposed by operator: ', files[op].replace('.csv', ''))\n",
    "    \n",
    "    return op, min_price"
   ]
  },
  {
   "cell_type": "code",
   "execution_count": 75,
   "metadata": {},
   "outputs": [],
   "source": [
    "def __main__():\n",
    "    phone = input(\"Enter the phone number: \")\n",
    "    n = int(input(\"enter the number of operators: \"))\n",
    "    operators = [None]*n\n",
    "\n",
    "    #prices = [None]*n\n",
    "\n",
    "    #saving all price lists' file names\n",
    "    for i in range(n):\n",
    "        file_name =  input (\"enter the csv price file's name: \")\n",
    "        #save the operators price file name\n",
    "        operators[i] = file_name\n",
    "\n",
    "    selector(operators, phone)\n"
   ]
  },
  {
   "cell_type": "code",
   "execution_count": 66,
   "metadata": {},
   "outputs": [],
   "source": [
    "#unit tests"
   ]
  },
  {
   "cell_type": "code",
   "execution_count": 67,
   "metadata": {},
   "outputs": [],
   "source": [
    "import unittest"
   ]
  },
  {
   "cell_type": "code",
   "execution_count": 114,
   "metadata": {},
   "outputs": [
    {
     "name": "stderr",
     "output_type": "stream",
     "text": [
      "test_search (__main__.TestSelector) ... ok\n",
      "test_selector (__main__.TestSelector) ... "
     ]
    },
    {
     "name": "stdout",
     "output_type": "stream",
     "text": [
      "best price:  0.9  proposed by operator:  file1\n",
      "best price:  0.17  proposed by operator:  file3\n",
      "this phone number is supported by no operator!\n",
      "file not found\n",
      "best price:  0.9  proposed by operator:  file1\n",
      "file not found\n",
      "file not found\n",
      "file not found\n"
     ]
    },
    {
     "name": "stderr",
     "output_type": "stream",
     "text": [
      "ok\n",
      "\n",
      "----------------------------------------------------------------------\n",
      "Ran 2 tests in 0.069s\n",
      "\n",
      "OK\n"
     ]
    },
    {
     "data": {
      "text/plain": [
       "<unittest.main.TestProgram at 0x2c7cef304a8>"
      ]
     },
     "execution_count": 114,
     "metadata": {},
     "output_type": "execute_result"
    }
   ],
   "source": [
    "class TestSelector(unittest.TestCase):\n",
    "    def test_search(self):\n",
    "        df = pd.read_csv('file1.csv', header = None)\n",
    "        df.columns=[\"code\",\"price\"]\n",
    "        df[\"code\"] = df[\"code\"].astype(str)\n",
    "        \n",
    "        #the price of an existing code\n",
    "        self.assertEqual(search_in_price_list(df, '4670193093'), 0.19)\n",
    "        \n",
    "        #the price of a code that doesn't exit\n",
    "        self.assertEqual(search_in_price_list(df, '5677993093'), 100000000000)\n",
    "\n",
    "    def test_selector(self):\n",
    "        files = ['file1.csv','file2.csv','file3.csv']\n",
    "        #if a code is supported by one operator\n",
    "        self.assertEqual(selector(files, '14670193093'), (0, 0.9))\n",
    "        \n",
    "        #if code exists in supported by more than one operator\n",
    "        self.assertEqual(selector(files, '4670193093'), (2, 0.17))\n",
    "        \n",
    "        #if a number is not supported by any operator \n",
    "        self.assertEqual(selector(files, '9874670193093'), (-1, -1))\n",
    "        \n",
    "        missing_file = ['file1.csv','file2.csv','file3.csv, randomfile']\n",
    "        #a missing file\n",
    "        self.assertEqual(selector(missing_file, '14670193093'), (0, 0.9))\n",
    "        \n",
    "        no_files = ['q','q','qd']\n",
    "        #file not found\n",
    "        self.assertEqual(selector(no_files, '14670193093'), (-1, -1))\n",
    "        \n",
    "        \n",
    "unittest.main(argv=[''], verbosity=2, exit=False)"
   ]
  }
 ],
 "metadata": {
  "kernelspec": {
   "display_name": "Python 3",
   "language": "python",
   "name": "python3"
  },
  "language_info": {
   "codemirror_mode": {
    "name": "ipython",
    "version": 3
   },
   "file_extension": ".py",
   "mimetype": "text/x-python",
   "name": "python",
   "nbconvert_exporter": "python",
   "pygments_lexer": "ipython3",
   "version": "3.7.0"
  }
 },
 "nbformat": 4,
 "nbformat_minor": 2
}
